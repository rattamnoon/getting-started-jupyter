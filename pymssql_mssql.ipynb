{
 "cells": [
  {
   "cell_type": "code",
   "execution_count": null,
   "metadata": {},
   "outputs": [],
   "source": [
    "%pip install pyodbc\n",
    "%pip install pymssql"
   ]
  },
  {
   "cell_type": "code",
   "execution_count": null,
   "metadata": {},
   "outputs": [],
   "source": [
    "\"\"\"\n",
    "Connects to a SQL database using pymssql\n",
    "\"\"\"\n",
    "\n",
    "import pymssql\n",
    "from dotenv import load_dotenv\n",
    "import os\n",
    "\n",
    "load_dotenv()\n",
    "\n",
    "conn = pymssql.connect(\n",
    "    server=os.getenv(\"SERVER\"),\n",
    "    user=os.getenv(\"USERNAME\"),\n",
    "    password=os.getenv(\"PASSWORD\"),\n",
    "    database=os.getenv(\"DATABASE\"),\n",
    "    as_dict=True,\n",
    ")\n",
    "\n",
    "cursor = conn.cursor()\n",
    "cursor.execute(\"SELECT TOP 5 employeeId, email FROM employee\")\n",
    "records = cursor.fetchall()\n",
    "for r in records:\n",
    "    print(f\"{r['employeeId']}\\t{r['email']}\")\n",
    "\n",
    "conn.close()"
   ]
  }
 ],
 "metadata": {
  "kernelspec": {
   "display_name": ".venv",
   "language": "python",
   "name": "python3"
  },
  "language_info": {
   "codemirror_mode": {
    "name": "ipython",
    "version": 3
   },
   "file_extension": ".py",
   "mimetype": "text/x-python",
   "name": "python",
   "nbconvert_exporter": "python",
   "pygments_lexer": "ipython3",
   "version": "3.10.14"
  }
 },
 "nbformat": 4,
 "nbformat_minor": 2
}
