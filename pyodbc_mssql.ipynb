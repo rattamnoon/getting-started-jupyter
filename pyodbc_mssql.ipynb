{
 "cells": [
  {
   "cell_type": "code",
   "execution_count": null,
   "metadata": {},
   "outputs": [],
   "source": [
    "%pip install pyodbc\n",
    "%pip install pymssql"
   ]
  },
  {
   "cell_type": "code",
   "execution_count": null,
   "metadata": {},
   "outputs": [],
   "source": [
    "\"\"\"\n",
    "Connects to a SQL database using pyodbc\n",
    "\"\"\"\n",
    "\n",
    "import pyodbc\n",
    "from dotenv import load_dotenv\n",
    "import os\n",
    "\n",
    "load_dotenv()\n",
    "\n",
    "SERVER = os.getenv(\"SERVER\")\n",
    "DATABASE = os.getenv(\"DATABASE\")\n",
    "USERNAME = os.getenv(\"USERNAME\")\n",
    "PASSWORD = os.getenv(\"PASSWORD\")\n",
    "\n",
    "connectionString = f\"DRIVER={{ODBC Driver 18 for SQL Server}};SERVER={SERVER};DATABASE={DATABASE};UID={USERNAME};PWD={PASSWORD};TrustServerCertificate=yes\"\n",
    "\n",
    "conn = pyodbc.connect(connectionString)\n",
    "\n",
    "SQL_QUERY = \"\"\"\n",
    "SELECT TOP 5\n",
    "employeeId, email\n",
    "FROM \n",
    "employee\n",
    "\"\"\"\n",
    "\n",
    "cursor = conn.cursor()\n",
    "cursor.execute(SQL_QUERY)\n",
    "\n",
    "records = cursor.fetchall()\n",
    "for r in records:\n",
    "    print(f\"{r.employeeId}\\t{r.email}\")\n",
    "conn.close()"
   ]
  }
 ],
 "metadata": {
  "kernelspec": {
   "display_name": ".venv",
   "language": "python",
   "name": "python3"
  },
  "language_info": {
   "codemirror_mode": {
    "name": "ipython",
    "version": 3
   },
   "file_extension": ".py",
   "mimetype": "text/x-python",
   "name": "python",
   "nbconvert_exporter": "python",
   "pygments_lexer": "ipython3",
   "version": "3.10.14"
  }
 },
 "nbformat": 4,
 "nbformat_minor": 2
}
